{
 "cells": [
  {
   "cell_type": "markdown",
   "metadata": {},
   "source": [
    "## 1. DEFINE"
   ]
  },
  {
   "cell_type": "code",
   "execution_count": 56,
   "metadata": {},
   "outputs": [],
   "source": [
    "#Import packages\n",
    "import pandas as pd\n",
    "import seaborn as sns\n",
    "import numpy as np\n",
    "import matplotlib.pyplot as plt\n",
    "import os"
   ]
  },
  {
   "cell_type": "markdown",
   "metadata": {},
   "source": [
    "## 2. DISCOVER"
   ]
  },
  {
   "cell_type": "code",
   "execution_count": 61,
   "metadata": {},
   "outputs": [],
   "source": [
    "path = 'C:\\\\GitBird Projects'\n",
    "os.chdir(path)"
   ]
  },
  {
   "cell_type": "code",
   "execution_count": 62,
   "metadata": {},
   "outputs": [
    {
     "data": {
      "text/html": [
       "<div>\n",
       "<style scoped>\n",
       "    .dataframe tbody tr th:only-of-type {\n",
       "        vertical-align: middle;\n",
       "    }\n",
       "\n",
       "    .dataframe tbody tr th {\n",
       "        vertical-align: top;\n",
       "    }\n",
       "\n",
       "    .dataframe thead th {\n",
       "        text-align: right;\n",
       "    }\n",
       "</style>\n",
       "<table border=\"1\" class=\"dataframe\">\n",
       "  <thead>\n",
       "    <tr style=\"text-align: right;\">\n",
       "      <th></th>\n",
       "      <th>person_id</th>\n",
       "      <th>age</th>\n",
       "      <th>citizen_status</th>\n",
       "      <th>nativity_status</th>\n",
       "      <th>weekly_hours_worked</th>\n",
       "      <th>total_income</th>\n",
       "      <th>self_employed_income</th>\n",
       "      <th>wage_income</th>\n",
       "      <th>interest_income</th>\n",
       "      <th>other_income</th>\n",
       "      <th>...</th>\n",
       "      <th>language</th>\n",
       "      <th>race_native_american</th>\n",
       "      <th>race_asian</th>\n",
       "      <th>race_black</th>\n",
       "      <th>race_native_hawaiian</th>\n",
       "      <th>race_pacific_islander</th>\n",
       "      <th>race_white</th>\n",
       "      <th>race_other</th>\n",
       "      <th>uninsured</th>\n",
       "      <th>household_id</th>\n",
       "    </tr>\n",
       "  </thead>\n",
       "  <tbody>\n",
       "    <tr>\n",
       "      <th>0</th>\n",
       "      <td>1</td>\n",
       "      <td>45</td>\n",
       "      <td>citizen_birth</td>\n",
       "      <td>native_born</td>\n",
       "      <td>15</td>\n",
       "      <td>908.0</td>\n",
       "      <td>62.0</td>\n",
       "      <td>800.0</td>\n",
       "      <td>11.0</td>\n",
       "      <td>35.0</td>\n",
       "      <td>...</td>\n",
       "      <td>English</td>\n",
       "      <td>0</td>\n",
       "      <td>0</td>\n",
       "      <td>0</td>\n",
       "      <td>0</td>\n",
       "      <td>0</td>\n",
       "      <td>1</td>\n",
       "      <td>0</td>\n",
       "      <td>0</td>\n",
       "      <td>1</td>\n",
       "    </tr>\n",
       "    <tr>\n",
       "      <th>1</th>\n",
       "      <td>2</td>\n",
       "      <td>47</td>\n",
       "      <td>citizen_birth</td>\n",
       "      <td>native_born</td>\n",
       "      <td>50</td>\n",
       "      <td>180499.0</td>\n",
       "      <td>49.0</td>\n",
       "      <td>160007.0</td>\n",
       "      <td>20424.0</td>\n",
       "      <td>19.0</td>\n",
       "      <td>...</td>\n",
       "      <td>English</td>\n",
       "      <td>0</td>\n",
       "      <td>0</td>\n",
       "      <td>0</td>\n",
       "      <td>0</td>\n",
       "      <td>0</td>\n",
       "      <td>1</td>\n",
       "      <td>0</td>\n",
       "      <td>0</td>\n",
       "      <td>1</td>\n",
       "    </tr>\n",
       "    <tr>\n",
       "      <th>2</th>\n",
       "      <td>4</td>\n",
       "      <td>26</td>\n",
       "      <td>citizen_birth</td>\n",
       "      <td>native_born</td>\n",
       "      <td>0</td>\n",
       "      <td>7367.0</td>\n",
       "      <td>93.0</td>\n",
       "      <td>4.0</td>\n",
       "      <td>20.0</td>\n",
       "      <td>7250.0</td>\n",
       "      <td>...</td>\n",
       "      <td>English</td>\n",
       "      <td>0</td>\n",
       "      <td>0</td>\n",
       "      <td>1</td>\n",
       "      <td>0</td>\n",
       "      <td>0</td>\n",
       "      <td>0</td>\n",
       "      <td>0</td>\n",
       "      <td>0</td>\n",
       "      <td>2</td>\n",
       "    </tr>\n",
       "    <tr>\n",
       "      <th>3</th>\n",
       "      <td>5</td>\n",
       "      <td>42</td>\n",
       "      <td>citizen_naturalized</td>\n",
       "      <td>foreign_born</td>\n",
       "      <td>0</td>\n",
       "      <td>22970.0</td>\n",
       "      <td>51.0</td>\n",
       "      <td>46.0</td>\n",
       "      <td>283.0</td>\n",
       "      <td>22590.0</td>\n",
       "      <td>...</td>\n",
       "      <td>Korean</td>\n",
       "      <td>0</td>\n",
       "      <td>1</td>\n",
       "      <td>0</td>\n",
       "      <td>0</td>\n",
       "      <td>0</td>\n",
       "      <td>0</td>\n",
       "      <td>0</td>\n",
       "      <td>0</td>\n",
       "      <td>3</td>\n",
       "    </tr>\n",
       "    <tr>\n",
       "      <th>4</th>\n",
       "      <td>6</td>\n",
       "      <td>79</td>\n",
       "      <td>citizen_naturalized</td>\n",
       "      <td>foreign_born</td>\n",
       "      <td>0</td>\n",
       "      <td>7941.0</td>\n",
       "      <td>23.0</td>\n",
       "      <td>94.0</td>\n",
       "      <td>73.0</td>\n",
       "      <td>7751.0</td>\n",
       "      <td>...</td>\n",
       "      <td>Korean</td>\n",
       "      <td>0</td>\n",
       "      <td>1</td>\n",
       "      <td>0</td>\n",
       "      <td>0</td>\n",
       "      <td>0</td>\n",
       "      <td>0</td>\n",
       "      <td>0</td>\n",
       "      <td>0</td>\n",
       "      <td>3</td>\n",
       "    </tr>\n",
       "  </tbody>\n",
       "</table>\n",
       "<p>5 rows × 25 columns</p>\n",
       "</div>"
      ],
      "text/plain": [
       "   person_id  age       citizen_status nativity_status  weekly_hours_worked  \\\n",
       "0          1   45        citizen_birth     native_born                   15   \n",
       "1          2   47        citizen_birth     native_born                   50   \n",
       "2          4   26        citizen_birth     native_born                    0   \n",
       "3          5   42  citizen_naturalized    foreign_born                    0   \n",
       "4          6   79  citizen_naturalized    foreign_born                    0   \n",
       "\n",
       "   total_income  self_employed_income  wage_income  interest_income  \\\n",
       "0         908.0                  62.0        800.0             11.0   \n",
       "1      180499.0                  49.0     160007.0          20424.0   \n",
       "2        7367.0                  93.0          4.0             20.0   \n",
       "3       22970.0                  51.0         46.0            283.0   \n",
       "4        7941.0                  23.0         94.0             73.0   \n",
       "\n",
       "   other_income      ...      language race_native_american race_asian  \\\n",
       "0          35.0      ...       English                    0          0   \n",
       "1          19.0      ...       English                    0          0   \n",
       "2        7250.0      ...       English                    0          0   \n",
       "3       22590.0      ...        Korean                    0          1   \n",
       "4        7751.0      ...        Korean                    0          1   \n",
       "\n",
       "  race_black race_native_hawaiian race_pacific_islander  race_white  \\\n",
       "0          0                    0                     0           1   \n",
       "1          0                    0                     0           1   \n",
       "2          1                    0                     0           0   \n",
       "3          0                    0                     0           0   \n",
       "4          0                    0                     0           0   \n",
       "\n",
       "   race_other  uninsured  household_id  \n",
       "0           0          0             1  \n",
       "1           0          0             1  \n",
       "2           0          0             2  \n",
       "3           0          0             3  \n",
       "4           0          0             3  \n",
       "\n",
       "[5 rows x 25 columns]"
      ]
     },
     "execution_count": 62,
     "metadata": {},
     "output_type": "execute_result"
    }
   ],
   "source": [
    "#Load data\n",
    "data = pd.read_csv('DataSet/training_set_data.csv')\n",
    "data.head()"
   ]
  },
  {
   "cell_type": "code",
   "execution_count": 63,
   "metadata": {},
   "outputs": [
    {
     "data": {
      "text/plain": [
       "person_id                0\n",
       "age                      0\n",
       "citizen_status           0\n",
       "nativity_status          0\n",
       "weekly_hours_worked      0\n",
       "total_income             0\n",
       "self_employed_income     0\n",
       "wage_income              0\n",
       "interest_income          0\n",
       "other_income             0\n",
       "marital_status           0\n",
       "school_status            0\n",
       "sex                      0\n",
       "when_last_worked         0\n",
       "worked_last_week         0\n",
       "language                 0\n",
       "race_native_american     0\n",
       "race_asian               0\n",
       "race_black               0\n",
       "race_native_hawaiian     0\n",
       "race_pacific_islander    0\n",
       "race_white               0\n",
       "race_other               0\n",
       "uninsured                0\n",
       "household_id             0\n",
       "dtype: int64"
      ]
     },
     "execution_count": 63,
     "metadata": {},
     "output_type": "execute_result"
    }
   ],
   "source": [
    "#Checking if any of the columns has null values\n",
    "data.isnull().sum()"
   ]
  },
  {
   "cell_type": "code",
   "execution_count": 64,
   "metadata": {},
   "outputs": [
    {
     "data": {
      "text/plain": [
       "0"
      ]
     },
     "execution_count": 64,
     "metadata": {},
     "output_type": "execute_result"
    }
   ],
   "source": [
    "#Checking if any of the row has duplicated values\n",
    "data.duplicated().sum()"
   ]
  },
  {
   "cell_type": "markdown",
   "metadata": {},
   "source": [
    "#### Data Cleaning and Normalization"
   ]
  },
  {
   "cell_type": "code",
   "execution_count": 65,
   "metadata": {},
   "outputs": [
    {
     "data": {
      "text/plain": [
       "array(['FEMALE', 'MALE', 'male', 'female', 'M', 'F'], dtype=object)"
      ]
     },
     "execution_count": 65,
     "metadata": {},
     "output_type": "execute_result"
    }
   ],
   "source": [
    "# Checking unique values for feature: sex\n",
    "data.sex.unique()"
   ]
  },
  {
   "cell_type": "code",
   "execution_count": 66,
   "metadata": {},
   "outputs": [
    {
     "data": {
      "text/plain": [
       "array(['F', 'M'], dtype=object)"
      ]
     },
     "execution_count": 66,
     "metadata": {},
     "output_type": "execute_result"
    }
   ],
   "source": [
    "data = data.replace(['FEMALE','female','Female'],'F')\n",
    "data = data.replace(['MALE', 'male', 'Male'],'M')\n",
    "data.sex.unique()"
   ]
  },
  {
   "cell_type": "code",
   "execution_count": 67,
   "metadata": {},
   "outputs": [],
   "source": [
    "#Converting Nominal Category to Boolean for feature: Uninsured \n",
    "data.uninsured = data.uninsured.astype(int)"
   ]
  },
  {
   "cell_type": "code",
   "execution_count": 68,
   "metadata": {},
   "outputs": [
    {
     "data": {
      "text/plain": [
       "array([0, 1], dtype=int64)"
      ]
     },
     "execution_count": 68,
     "metadata": {},
     "output_type": "execute_result"
    }
   ],
   "source": [
    "#Combining all races into one feature\n",
    "data.loc[data['race_native_american'] == 1,'race_other'] = 1\n",
    "data.loc[data['race_native_hawaiian'] == 1,'race_other'] = 1\n",
    "data.loc[data['race_pacific_islander'] == 1,'race_other'] = 1\n",
    "data.race_other.unique()"
   ]
  },
  {
   "cell_type": "code",
   "execution_count": 69,
   "metadata": {},
   "outputs": [
    {
     "name": "stdout",
     "output_type": "stream",
     "text": [
      "<class 'pandas.core.frame.DataFrame'>\n",
      "RangeIndex: 59597 entries, 0 to 59596\n",
      "Data columns (total 12 columns):\n",
      "age                    59597 non-null int64\n",
      "citizen_status         59597 non-null object\n",
      "weekly_hours_worked    59597 non-null int64\n",
      "total_income           59597 non-null float64\n",
      "marital_status         59597 non-null object\n",
      "school_status          59597 non-null object\n",
      "sex                    59597 non-null object\n",
      "race_asian             59597 non-null int64\n",
      "race_black             59597 non-null int64\n",
      "race_white             59597 non-null int64\n",
      "race_other             59597 non-null int64\n",
      "uninsured              59597 non-null int32\n",
      "dtypes: float64(1), int32(1), int64(6), object(4)\n",
      "memory usage: 5.2+ MB\n"
     ]
    }
   ],
   "source": [
    "#Removing columns that are not relevant to modeling\n",
    "data2= data.drop(['person_id','race_native_american', 'race_native_hawaiian', 'race_pacific_islander', \n",
    "                  'household_id','language','self_employed_income','wage_income','interest_income',\n",
    "                  'other_income','nativity_status','when_last_worked', 'worked_last_week'], axis=1)\n",
    "data2.info()"
   ]
  },
  {
   "cell_type": "markdown",
   "metadata": {},
   "source": [
    "#### Checking UnInsured vs Insured data"
   ]
  },
  {
   "cell_type": "code",
   "execution_count": 70,
   "metadata": {},
   "outputs": [
    {
     "data": {
      "text/plain": [
       "0    54977\n",
       "1     4620\n",
       "Name: uninsured, dtype: int64"
      ]
     },
     "execution_count": 70,
     "metadata": {},
     "output_type": "execute_result"
    }
   ],
   "source": [
    "data['uninsured'].value_counts()"
   ]
  },
  {
   "cell_type": "code",
   "execution_count": 73,
   "metadata": {},
   "outputs": [
    {
     "data": {
      "image/png": "[encoded data removed]",
      "text/plain": [
       "<Figure size 432x288 with 1 Axes>"
      ]
     },
     "metadata": {
      "needs_background": "light"
     },
     "output_type": "display_data"
    }
   ],
   "source": [
    "sns.countplot(x='uninsured',data=data, palette='hls')\n",
    "plt.savefig('Outcome/count_plot')\n",
    "plt.show()"
   ]
  },
  {
   "cell_type": "code",
   "execution_count": 74,
   "metadata": {},
   "outputs": [
    {
     "name": "stdout",
     "output_type": "stream",
     "text": [
      "Percentage of Uninsured people: 7.75\n",
      "Percentage of Insured people  : 92.25\n"
     ]
    }
   ],
   "source": [
    "uninsured_pct =round(len(data[data['uninsured']==1])/len(data)*100,2)\n",
    "print(\"Percentage of Uninsured people:\",uninsured_pct)\n",
    "print(\"Percentage of Insured people  :\",100-uninsured_pct)"
   ]
  },
  {
   "cell_type": "markdown",
   "metadata": {},
   "source": [
    "From above we can see that the data provided is imbalanced. 92% of the data is of Insured people while 8% is uninsured.\n",
    "This will lead to false result if we model the data the way it is. \n",
    "Hence, we will use the smote method for synthetic sampling of data so we have almost similar number of both data"
   ]
  },
  {
   "cell_type": "code",
   "execution_count": 14,
   "metadata": {},
   "outputs": [
    {
     "data": {
      "text/html": [
       "<div>\n",
       "<style scoped>\n",
       "    .dataframe tbody tr th:only-of-type {\n",
       "        vertical-align: middle;\n",
       "    }\n",
       "\n",
       "    .dataframe tbody tr th {\n",
       "        vertical-align: top;\n",
       "    }\n",
       "\n",
       "    .dataframe thead th {\n",
       "        text-align: right;\n",
       "    }\n",
       "</style>\n",
       "<table border=\"1\" class=\"dataframe\">\n",
       "  <thead>\n",
       "    <tr style=\"text-align: right;\">\n",
       "      <th></th>\n",
       "      <th>age</th>\n",
       "      <th>weekly_hours_worked</th>\n",
       "      <th>total_income</th>\n",
       "      <th>race_asian</th>\n",
       "      <th>race_black</th>\n",
       "      <th>race_white</th>\n",
       "      <th>race_other</th>\n",
       "      <th>uninsured</th>\n",
       "    </tr>\n",
       "    <tr>\n",
       "      <th>marital_status</th>\n",
       "      <th></th>\n",
       "      <th></th>\n",
       "      <th></th>\n",
       "      <th></th>\n",
       "      <th></th>\n",
       "      <th></th>\n",
       "      <th></th>\n",
       "      <th></th>\n",
       "    </tr>\n",
       "  </thead>\n",
       "  <tbody>\n",
       "    <tr>\n",
       "      <th>divorced</th>\n",
       "      <td>55.533848</td>\n",
       "      <td>25.295596</td>\n",
       "      <td>40660.569339</td>\n",
       "      <td>0.015938</td>\n",
       "      <td>0.144758</td>\n",
       "      <td>0.818436</td>\n",
       "      <td>0.034341</td>\n",
       "      <td>0.079691</td>\n",
       "    </tr>\n",
       "    <tr>\n",
       "      <th>married</th>\n",
       "      <td>52.593895</td>\n",
       "      <td>27.271456</td>\n",
       "      <td>52974.486989</td>\n",
       "      <td>0.057519</td>\n",
       "      <td>0.058207</td>\n",
       "      <td>0.853810</td>\n",
       "      <td>0.041411</td>\n",
       "      <td>0.055048</td>\n",
       "    </tr>\n",
       "    <tr>\n",
       "      <th>never_married</th>\n",
       "      <td>33.379870</td>\n",
       "      <td>25.537752</td>\n",
       "      <td>25077.792064</td>\n",
       "      <td>0.051924</td>\n",
       "      <td>0.198348</td>\n",
       "      <td>0.710047</td>\n",
       "      <td>0.061573</td>\n",
       "      <td>0.120010</td>\n",
       "    </tr>\n",
       "    <tr>\n",
       "      <th>separated</th>\n",
       "      <td>49.558333</td>\n",
       "      <td>26.716667</td>\n",
       "      <td>33246.575000</td>\n",
       "      <td>0.026190</td>\n",
       "      <td>0.258333</td>\n",
       "      <td>0.625000</td>\n",
       "      <td>0.102381</td>\n",
       "      <td>0.157143</td>\n",
       "    </tr>\n",
       "    <tr>\n",
       "      <th>widowed</th>\n",
       "      <td>75.947535</td>\n",
       "      <td>6.282487</td>\n",
       "      <td>33483.520282</td>\n",
       "      <td>0.023561</td>\n",
       "      <td>0.135536</td>\n",
       "      <td>0.828516</td>\n",
       "      <td>0.017731</td>\n",
       "      <td>0.061453</td>\n",
       "    </tr>\n",
       "  </tbody>\n",
       "</table>\n",
       "</div>"
      ],
      "text/plain": [
       "                      age  weekly_hours_worked  total_income  race_asian  \\\n",
       "marital_status                                                             \n",
       "divorced        55.533848            25.295596  40660.569339    0.015938   \n",
       "married         52.593895            27.271456  52974.486989    0.057519   \n",
       "never_married   33.379870            25.537752  25077.792064    0.051924   \n",
       "separated       49.558333            26.716667  33246.575000    0.026190   \n",
       "widowed         75.947535             6.282487  33483.520282    0.023561   \n",
       "\n",
       "                race_black  race_white  race_other  uninsured  \n",
       "marital_status                                                 \n",
       "divorced          0.144758    0.818436    0.034341   0.079691  \n",
       "married           0.058207    0.853810    0.041411   0.055048  \n",
       "never_married     0.198348    0.710047    0.061573   0.120010  \n",
       "separated         0.258333    0.625000    0.102381   0.157143  \n",
       "widowed           0.135536    0.828516    0.017731   0.061453  "
      ]
     },
     "execution_count": 14,
     "metadata": {},
     "output_type": "execute_result"
    }
   ],
   "source": [
    "data2.groupby('marital_status').mean()"
   ]
  },
  {
   "cell_type": "code",
   "execution_count": 75,
   "metadata": {},
   "outputs": [
    {
     "data": {
      "image/png": "[encoded data removed]",
      "text/plain": [
       "<Figure size 432x288 with 1 Axes>"
      ]
     },
     "metadata": {
      "needs_background": "light"
     },
     "output_type": "display_data"
    }
   ],
   "source": [
    "%matplotlib inline\n",
    "pd.crosstab(data2.marital_status,data2.uninsured).plot(kind='bar')\n",
    "plt.title('Uninsured for Marital Status')\n",
    "plt.xlabel('Marital Status')\n",
    "plt.ylabel('Uninsured or Not')\n",
    "plt.savefig('Outcome/uninsured_marital_status')"
   ]
  },
  {
   "cell_type": "code",
   "execution_count": 77,
   "metadata": {},
   "outputs": [
    {
     "data": {
      "image/png": "[encoded data removed]",
      "text/plain": [
       "<Figure size 432x288 with 1 Axes>"
      ]
     },
     "metadata": {
      "needs_background": "light"
     },
     "output_type": "display_data"
    }
   ],
   "source": [
    "%matplotlib inline\n",
    "pd.crosstab(data2.citizen_status,data2.uninsured).plot(kind='bar', stacked=True)\n",
    "plt.title('Uninsured for Citizen Status')\n",
    "plt.xlabel('Citizen Status')\n",
    "plt.ylabel('Uninsured or Not')\n",
    "plt.savefig('Outcome/uninsured_citizen_status')"
   ]
  },
  {
   "cell_type": "code",
   "execution_count": 78,
   "metadata": {},
   "outputs": [
    {
     "data": {
      "image/png": "[encoded data removed]",
      "text/plain": [
       "<Figure size 432x288 with 1 Axes>"
      ]
     },
     "metadata": {
      "needs_background": "light"
     },
     "output_type": "display_data"
    }
   ],
   "source": [
    "%matplotlib inline\n",
    "pd.crosstab(data2.school_status,data2.uninsured).plot(kind='bar', stacked=True)\n",
    "plt.title('Uninsured for School Status')\n",
    "plt.xlabel('School Status')\n",
    "plt.ylabel('Uninsured or Not')\n",
    "plt.savefig('Outcome/uninsured_school_status')"
   ]
  },
  {
   "cell_type": "code",
   "execution_count": 79,
   "metadata": {},
   "outputs": [
    {
     "data": {
      "image/png": "[encoded data removed]",
      "text/plain": [
       "<Figure size 432x288 with 1 Axes>"
      ]
     },
     "metadata": {
      "needs_background": "light"
     },
     "output_type": "display_data"
    }
   ],
   "source": [
    "%matplotlib inline\n",
    "pd.crosstab(data2.sex,data2.uninsured).plot(kind='bar')\n",
    "plt.title('Uninsured for Sex')\n",
    "plt.xlabel('Citizen Status')\n",
    "plt.ylabel('Uninsured or Not')\n",
    "plt.savefig('Outcome/uninsured_sex')"
   ]
  },
  {
   "cell_type": "markdown",
   "metadata": {},
   "source": [
    "#### Encoding the labels \n",
    "We need to convert nominal categorical variables to numeric so the machine can read it and model.\n",
    "Using __[LabelEncoder from sklearn](https://www.datacamp.com/community/tutorials/categorical-data)__"
   ]
  },
  {
   "cell_type": "code",
   "execution_count": 80,
   "metadata": {},
   "outputs": [],
   "source": [
    "data2_copy =data2.copy()\n",
    "from sklearn.preprocessing import LabelEncoder\n",
    "\n",
    "lb_make = LabelEncoder()\n",
    "data2_copy['citizen_status'] = lb_make.fit_transform(data2_copy['citizen_status'])\n",
    "data2_copy['marital_status'] = lb_make.fit_transform(data2_copy['marital_status'])\n",
    "data2_copy['school_status'] = lb_make.fit_transform(data2_copy['school_status'])\n",
    "data2_copy['sex'] = lb_make.fit_transform(data2_copy['sex'])"
   ]
  },
  {
   "cell_type": "markdown",
   "metadata": {},
   "source": [
    "#### Correlation Data analysis"
   ]
  },
  {
   "cell_type": "code",
   "execution_count": 83,
   "metadata": {},
   "outputs": [
    {
     "data": {
      "image/png": "[encoded data removed]",
      "text/plain": [
       "<Figure size 648x432 with 2 Axes>"
      ]
     },
     "metadata": {
      "needs_background": "light"
     },
     "output_type": "display_data"
    }
   ],
   "source": [
    "corr = data2_copy.corr()\n",
    "f, ax = plt.subplots(figsize=(9, 6))\n",
    "sns.heatmap(round(corr,2), annot =True,linewidths=.5, ax=ax)\n",
    "plt.savefig('Outcome/correlation_plot')\n",
    "plt.show()"
   ]
  },
  {
   "cell_type": "markdown",
   "metadata": {},
   "source": [
    "\n",
    "* Race White and Race Black are higly negatively correlated\n",
    "* Race White and Race Asian are also negatively correlated\n",
    "* Race White and Race Other are slightly negaitively correlated\n",
    "* School Status and Age are slightly negatively correlated\n",
    "* Weekly Hours worked and Age are negatively correlated\n",
    "\n",
    "Let us drop Race White since it correlates with many other features"
   ]
  },
  {
   "cell_type": "code",
   "execution_count": 84,
   "metadata": {},
   "outputs": [
    {
     "name": "stdout",
     "output_type": "stream",
     "text": [
      "<class 'pandas.core.frame.DataFrame'>\n",
      "RangeIndex: 59597 entries, 0 to 59596\n",
      "Data columns (total 11 columns):\n",
      "age                    59597 non-null int64\n",
      "citizen_status         59597 non-null int64\n",
      "weekly_hours_worked    59597 non-null int64\n",
      "total_income           59597 non-null float64\n",
      "marital_status         59597 non-null int64\n",
      "school_status          59597 non-null int64\n",
      "sex                    59597 non-null int64\n",
      "race_asian             59597 non-null int64\n",
      "race_black             59597 non-null int64\n",
      "race_other             59597 non-null int64\n",
      "uninsured              59597 non-null int32\n",
      "dtypes: float64(1), int32(1), int64(9)\n",
      "memory usage: 4.8 MB\n"
     ]
    }
   ],
   "source": [
    "data2_copy= data2_copy.drop(['race_white'], axis=1)\n",
    "data2_copy.info()"
   ]
  },
  {
   "cell_type": "markdown",
   "metadata": {},
   "source": [
    "#### Creating and Training Logistic Regression Model"
   ]
  },
  {
   "cell_type": "code",
   "execution_count": 85,
   "metadata": {},
   "outputs": [],
   "source": [
    "# Separate input features and target\n",
    "y = data2_copy.uninsured\n",
    "X = data2_copy.drop('uninsured', axis=1)\n",
    "\n",
    "# setting up testing and training sets\n",
    "from sklearn.model_selection import train_test_split\n",
    "X_train, X_test, y_train, y_test = train_test_split(X, y, test_size=0.25, random_state=27)\n",
    "columns = X_train.columns"
   ]
  },
  {
   "cell_type": "markdown",
   "metadata": {},
   "source": [
    "### SMOTE\n",
    "\n",
    "Using __[SMOTE](https://towardsdatascience.com/methods-for-dealing-with-imbalanced-data-5b761be45a18)__ to deal with Imbalanced data"
   ]
  },
  {
   "cell_type": "code",
   "execution_count": 86,
   "metadata": {},
   "outputs": [
    {
     "name": "stderr",
     "output_type": "stream",
     "text": [
      "C:\\Users\\adhewaju\\AppData\\Local\\Continuum\\anaconda3\\lib\\site-packages\\sklearn\\utils\\deprecation.py:77: DeprecationWarning: Function _ratio_float is deprecated; Use a float for 'ratio' is deprecated from version 0.2. The support will be removed in 0.4. Use a dict, str, or a callable instead.\n",
      "  warnings.warn(msg, category=DeprecationWarning)\n"
     ]
    },
    {
     "name": "stdout",
     "output_type": "stream",
     "text": [
      "length of oversampled data is  82496\n",
      "Number of uninsured in oversampled data 41248\n",
      "Number of insured 41248\n",
      "Proportion of uninsured in oversampled data is  0.5\n",
      "Proportion of insured in oversampled data is  0.5\n"
     ]
    }
   ],
   "source": [
    "#Oversampling only training data \n",
    "from imblearn.over_sampling import SMOTE\n",
    "sm = SMOTE(random_state=27, ratio=1.0)\n",
    "X_train, y_train = sm.fit_sample(X_train, y_train)\n",
    "X_train = pd.DataFrame(data=X_train,columns=columns)\n",
    "y_train = pd.DataFrame(data=y_train,columns=['uninsured'])\n",
    "y_train.tail()\n",
    "\n",
    "# we can Check the numbers of our data\n",
    "print(\"length of oversampled data is \",len(X_train))\n",
    "print(\"Number of uninsured in oversampled data\",len(y_train[y_train['uninsured'] == 1]))\n",
    "print(\"Number of insured\",len(y_train[y_train['uninsured'] == 0]))\n",
    "print(\"Proportion of uninsured in oversampled data is \",len(y_train[y_train['uninsured'] == 1])/len(X_train))\n",
    "print(\"Proportion of insured in oversampled data is \",len(y_train[y_train['uninsured'] == 0])/len(X_train))\n"
   ]
  },
  {
   "cell_type": "markdown",
   "metadata": {},
   "source": [
    "## 3. DEVELOP "
   ]
  },
  {
   "cell_type": "markdown",
   "metadata": {},
   "source": [
    "#### Implementing logistic Regression Model"
   ]
  },
  {
   "cell_type": "code",
   "execution_count": 87,
   "metadata": {},
   "outputs": [],
   "source": [
    "from sklearn.linear_model import LogisticRegression\n",
    "#Fitting logistic  regression model\n",
    "model = LogisticRegression(solver='lbfgs')\n",
    "model = model.fit(X_train,y_train.values.ravel())"
   ]
  },
  {
   "cell_type": "code",
   "execution_count": 88,
   "metadata": {},
   "outputs": [
    {
     "name": "stdout",
     "output_type": "stream",
     "text": [
      "Optimization terminated successfully.\n",
      "         Current function value: 0.239645\n",
      "         Iterations 8\n",
      "                           Results: Logit\n",
      "====================================================================\n",
      "Model:               Logit             Pseudo R-squared:  0.121     \n",
      "Dependent Variable:  uninsured         AIC:               28584.3037\n",
      "Date:                2019-08-25 18:53  BIC:               28674.2573\n",
      "No. Observations:    59597             Log-Likelihood:    -14282.   \n",
      "Df Model:            9                 LL-Null:           -16250.   \n",
      "Df Residuals:        59587             LLR p-value:       0.0000    \n",
      "Converged:           1.0000            Scale:             1.0000    \n",
      "No. Iterations:      8.0000                                         \n",
      "--------------------------------------------------------------------\n",
      "                     Coef.  Std.Err.    z     P>|z|   [0.025  0.975]\n",
      "--------------------------------------------------------------------\n",
      "age                 -0.0394   0.0007 -58.9640 0.0000 -0.0407 -0.0381\n",
      "citizen_status       0.9047   0.0231  39.1790 0.0000  0.8595  0.9500\n",
      "weekly_hours_worked -0.0120   0.0010 -12.1926 0.0000 -0.0139 -0.0100\n",
      "total_income        -0.0000   0.0000 -21.7559 0.0000 -0.0000 -0.0000\n",
      "marital_status      -0.1418   0.0181  -7.8412 0.0000 -0.1772 -0.1063\n",
      "school_status       -0.7908   0.0336 -23.5550 0.0000 -0.8566 -0.7250\n",
      "sex                  0.3728   0.0319  11.6725 0.0000  0.3102  0.4354\n",
      "race_asian          -0.7286   0.0747  -9.7562 0.0000 -0.8749 -0.5822\n",
      "race_black           0.4151   0.0445   9.3264 0.0000  0.3279  0.5023\n",
      "race_other           0.3941   0.0564   6.9819 0.0000  0.2835  0.5047\n",
      "====================================================================\n",
      "\n"
     ]
    }
   ],
   "source": [
    "import statsmodels.api as sm\n",
    "logit_model = sm.Logit(y,X)\n",
    "result=logit_model.fit()\n",
    "print(result.summary2())"
   ]
  },
  {
   "cell_type": "markdown",
   "metadata": {},
   "source": [
    "## 4. DEPLOYMENT\n",
    "\n",
    "#### Predict Class Probabilities & Class Predictions\n",
    "We can make these two predictions:\n",
    "1. Hard Predictions: Using the predict() will output the class predictions\n",
    "2. Soft Predictions: Using the predict_proba() will output class probabilites\n",
    "\n",
    "**Hard Prediction (Class Label)**\n",
    "\n",
    "Class Labels:\n",
    "- Negative class is 0\n",
    "- Positive class is 1"
   ]
  },
  {
   "cell_type": "code",
   "execution_count": 89,
   "metadata": {},
   "outputs": [
    {
     "name": "stdout",
     "output_type": "stream",
     "text": [
      "First y_pred:  [1 0 0 0 0 1 0 0 0 1]\n",
      "Accuracy of logistic regression classifier on test set: 0.76\n"
     ]
    }
   ],
   "source": [
    "# Make class label predictions\n",
    "y_pred = model.predict(X_test)\n",
    "print(\"First y_pred: \",y_pred[:10])\n",
    "print('Accuracy of logistic regression classifier on test set: {:.2f}'\n",
    "      .format(model.score(X_test, y_test)))"
   ]
  },
  {
   "cell_type": "markdown",
   "metadata": {},
   "source": [
    "**Soft Prediction (Probability Scores)**\n",
    "\n",
    "Class Probabilities:\n",
    "- First column is the predicted probability of individual being insured \n",
    "- Second column is the predicted probability of individual being uninsured"
   ]
  },
  {
   "cell_type": "code",
   "execution_count": 90,
   "metadata": {},
   "outputs": [
    {
     "data": {
      "text/plain": [
       "array([[0.47898971, 0.52101029],\n",
       "       [0.77722061, 0.22277939],\n",
       "       [0.82229424, 0.17770576],\n",
       "       [0.53467072, 0.46532928],\n",
       "       [0.95827488, 0.04172512],\n",
       "       [0.43791488, 0.56208512],\n",
       "       [0.86114373, 0.13885627],\n",
       "       [0.75558558, 0.24441442],\n",
       "       [0.61629236, 0.38370764],\n",
       "       [0.37711931, 0.62288069]])"
      ]
     },
     "execution_count": 90,
     "metadata": {},
     "output_type": "execute_result"
    }
   ],
   "source": [
    "#Make class probability predictions\n",
    "model.predict_proba(X_test)[:10]"
   ]
  },
  {
   "cell_type": "markdown",
   "metadata": {},
   "source": [
    "### Confusion Matrix"
   ]
  },
  {
   "cell_type": "code",
   "execution_count": 91,
   "metadata": {},
   "outputs": [
    {
     "name": "stdout",
     "output_type": "stream",
     "text": [
      "[[10626  3103]\n",
      " [  463   708]]\n"
     ]
    }
   ],
   "source": [
    "from sklearn.metrics import confusion_matrix\n",
    "cm = confusion_matrix(y_test, y_pred)\n",
    "print(cm)"
   ]
  },
  {
   "cell_type": "code",
   "execution_count": 92,
   "metadata": {},
   "outputs": [
    {
     "data": {
      "image/png": "[encoded data removed]",
      "text/plain": [
       "<Figure size 432x288 with 1 Axes>"
      ]
     },
     "metadata": {
      "needs_background": "light"
     },
     "output_type": "display_data"
    }
   ],
   "source": [
    "plt.clf()\n",
    "plt.imshow(cm, interpolation='nearest', cmap=plt.cm.Wistia)\n",
    "classNames = ['Negative','Positive']\n",
    "plt.title('Versicolor or Not Versicolor Confusion Matrix - Test Data')\n",
    "plt.ylabel('Actual')\n",
    "plt.xlabel('Predicted')\n",
    "tick_marks = np.arange(len(classNames))\n",
    "plt.xticks(tick_marks, classNames, rotation=45)\n",
    "plt.yticks(tick_marks, classNames)\n",
    "s = [['TN','FP'], ['FN', 'TP']]\n",
    "for i in range(2):\n",
    "    for j in range(2):\n",
    "        plt.text(j,i, str(s[i][j])+\" = \"+str(cm[i][j]))\n",
    "plt.savefig('Outcome/confusion_matrix')\n",
    "plt.show()"
   ]
  },
  {
   "cell_type": "markdown",
   "metadata": {},
   "source": [
    "#### Interpretation\n",
    "\n",
    "People who are uninsured and were correctly identified as uninsured were 706\n",
    "People who are insured and were correctly identified as insured were 10656\n",
    "\n",
    "* Correct Predictions: TP+TN = (706+10656) = 11362\n",
    "\n",
    "People who are uninsured but were incorrectly identified as insured were 465\n",
    "People who are insured but were correctly identified as uninsured were 3073\n",
    "\n",
    "* InCorrect Predictions: FN+FP = (465+3073) = 3538\n",
    "-------------------------------------------------------------------------------\n",
    "\n",
    "* Sensitivity(Recall) = TP/(TP+FN) = 706/(706+465) = 0.94 \n",
    "\n",
    "94% people who were uninsured were correctly identified as uninsured by the Logistic Regression model.\n",
    "\n",
    "* Specificity         = TN /(TN+FP)= 10656/(10656+3073) = 0.78\n",
    "\n",
    "78% people who were insured were correctly identified as insured by the Logistic Regression model. \n",
    "\n",
    "**The goal of the business is to correctly identify people who are uninsured so we can reach out to people who are uninsured for marketing purposes.** So we need to focus more on Sensitivity. If there is another model with more sensitivity then we can opt to choose that model instead of this one.\n",
    "\n",
    "--------------------------------------------------------------------------------\n",
    "* Precision  = TP/(TP+FP) = 706/(706+3073) = 0.19\n",
    "\n",
    "Precision is proportion of positive results that were correctly classified. i.e. ability to not label a sample as insured if it is uninsured. 19% correct classification were of uninsured people. Precision is helpful only when extreme scenario occurs \n",
    "\n",
    "* Recall = TP/(TP+FN) = 706/(706+465)= 0.60\n",
    "\n",
    "Recall is proportion of correctly classified positive result over actual positive results. Of the actual uninsured, 60% of them were actually classified as uninsured.\n"
   ]
  },
  {
   "cell_type": "code",
   "execution_count": 93,
   "metadata": {},
   "outputs": [
    {
     "name": "stdout",
     "output_type": "stream",
     "text": [
      "             precision    recall  f1-score   support\n",
      "\n",
      "    insured       0.96      0.77      0.86     13729\n",
      "  uninsured       0.19      0.60      0.28      1171\n",
      "\n",
      "avg / total       0.90      0.76      0.81     14900\n",
      "\n"
     ]
    }
   ],
   "source": [
    "from sklearn.metrics import classification_report\n",
    "target_names = ['insured', 'uninsured']\n",
    "print(classification_report(y_test, y_pred, target_names=target_names))"
   ]
  },
  {
   "cell_type": "markdown",
   "metadata": {},
   "source": [
    "**Interpretation:** Of the entire test set, 76% of the uninsured were rightly identified."
   ]
  },
  {
   "cell_type": "markdown",
   "metadata": {},
   "source": [
    "### ROC Curve"
   ]
  },
  {
   "cell_type": "code",
   "execution_count": 94,
   "metadata": {},
   "outputs": [
    {
     "data": {
      "image/png": "[encoded data removed]",
      "text/plain": [
       "<Figure size 432x288 with 1 Axes>"
      ]
     },
     "metadata": {
      "needs_background": "light"
     },
     "output_type": "display_data"
    }
   ],
   "source": [
    "from sklearn.metrics import roc_auc_score\n",
    "from sklearn.metrics import roc_curve\n",
    "logit_roc_auc = roc_auc_score(y_test, model.predict(X_test))\n",
    "fpr, tpr, thresholds = roc_curve(y_test, model.predict_proba(X_test)[:,1])\n",
    "plt.figure()\n",
    "plt.plot(fpr, tpr, label='Logistic Regression (area = %0.2f)' % logit_roc_auc)\n",
    "plt.plot([0, 1], [0, 1],'r--')\n",
    "plt.xlim([0.0, 1.0])\n",
    "plt.ylim([0.0, 1.05])\n",
    "plt.xlabel('1-Specificity (False Positive Rate)')\n",
    "plt.ylabel('Sensitivty (True Positive Rate)')\n",
    "plt.title('ROC Curve')\n",
    "plt.legend(loc=\"lower right\")\n",
    "plt.savefig('Outcome/Log_ROC')\n",
    "plt.show()"
   ]
  },
  {
   "cell_type": "markdown",
   "metadata": {},
   "source": [
    "**Interpretation**\n",
    "\n",
    "From the ROC Curve:\n",
    "\n",
    "I have to accept 20% false positive rate with 60% true positive rate or to accept 40% false positive rate with 76% true positive rate.  For the business it is inevitable to find people who are uninsured. So I would choose the latter. Marketing insurance to already insured people would not hurt.\n",
    "\n",
    "AUC is 69%. If we were to compare this model with another model with higher AUC, we would choose other graph for better accuracy"
   ]
  },
  {
   "cell_type": "markdown",
   "metadata": {},
   "source": [
    "### Predicting Unlabeled data\n",
    "Now we read new file with people info.The new data don't have uninsured or not data. So we predict if the people are not insured or not. Also we add predicting probabilities of the result. "
   ]
  },
  {
   "cell_type": "code",
   "execution_count": 98,
   "metadata": {},
   "outputs": [],
   "source": [
    "#Reading, cleaning new data\n",
    "unlabeled_data = pd.read_csv('DataSet/unlabeled_data.csv')\n",
    "unlabeled_data = unlabeled_data.dropna()\n",
    "\n",
    "#Making the result uniform\n",
    "unlabeled_data = unlabeled_data.replace(['FEMALE','female','Female'],'F')\n",
    "unlabeled_data = unlabeled_data.replace(['MALE', 'male', 'Male'],'M')\n",
    "unlabeled_data.loc[data['race_native_american'] == 1,'race_other'] = 1\n",
    "unlabeled_data.loc[data['race_native_hawaiian'] == 1,'race_other'] = 1\n",
    "unlabeled_data.loc[data['race_pacific_islander'] == 1,'race_other'] = 1\n",
    "#Dropping features that were not \n",
    "unlabeled_data2= unlabeled_data.drop(['person_id','race_native_american', 'race_native_hawaiian', 'race_pacific_islander', \n",
    "                  'race_white','household_id','language','self_employed_income','wage_income','interest_income',\n",
    "                  'other_income','nativity_status','when_last_worked', 'worked_last_week'], axis=1)\n",
    "\n",
    "#Encode Categorical Data\n",
    "unlabeled_data2['citizen_status'] = lb_make.fit_transform(unlabeled_data2['citizen_status'])\n",
    "unlabeled_data2['marital_status'] = lb_make.fit_transform(unlabeled_data2['marital_status'])\n",
    "unlabeled_data2['school_status'] = lb_make.fit_transform(unlabeled_data2['school_status'])\n",
    "unlabeled_data2['sex'] = lb_make.fit_transform(unlabeled_data2['sex'])\n",
    "\n",
    "#Use the model to predict if uninsured or not \n",
    "# and the probablity of predicting it \n",
    "unlabeled_pred_y=model.predict(unlabeled_data2)\n",
    "unlabeled_score=model.score(unlabeled_data2, unlabeled_pred_y)\n",
    "unlabeled_prob=model.predict_proba(unlabeled_data2)[:,1] #Just getting probablity for getting uninsured \n",
    "\n",
    "\n",
    "unlabeled_data['Predicted_uninsured'] = unlabeled_pred_y\n",
    "unlabeled_data['Prediction_prob'] = unlabeled_prob\n",
    "\n",
    "#Adding uninsured or not and preidiction probablity to new file\n",
    "unlabeled_data.to_csv('Outcome/Predicted_Unlabeled_data.csv')"
   ]
  }
 ],
 "metadata": {
  "kernelspec": {
   "display_name": "Python 3",
   "language": "python",
   "name": "python3"
  },
  "language_info": {
   "codemirror_mode": {
    "name": "ipython",
    "version": 3
   },
   "file_extension": ".py",
   "mimetype": "text/x-python",
   "name": "python",
   "nbconvert_exporter": "python",
   "pygments_lexer": "ipython3",
   "version": "3.7.1"
  }
 },
 "nbformat": 4,
 "nbformat_minor": 2
}
